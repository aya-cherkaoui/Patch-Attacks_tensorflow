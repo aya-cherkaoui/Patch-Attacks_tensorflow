{
 "cells": [
  {
   "cell_type": "code",
   "execution_count": 1,
   "id": "a43b1e77-b596-4df6-88b1-8c79230c308a",
   "metadata": {},
   "outputs": [
    {
     "name": "stderr",
     "output_type": "stream",
     "text": [
      "Cloning into 'adversarial-robustness-toolbox'...\n",
      "Updating files:  56% (464/827)\n",
      "Updating files:  57% (472/827)\n",
      "Updating files:  58% (480/827)\n",
      "Updating files:  59% (488/827)\n",
      "Updating files:  60% (497/827)\n",
      "Updating files:  61% (505/827)\n",
      "Updating files:  62% (513/827)\n",
      "Updating files:  63% (522/827)\n",
      "Updating files:  64% (530/827)\n",
      "Updating files:  65% (538/827)\n",
      "Updating files:  66% (546/827)\n",
      "Updating files:  67% (555/827)\n",
      "Updating files:  68% (563/827)\n",
      "Updating files:  69% (571/827)\n",
      "Updating files:  70% (579/827)\n",
      "Updating files:  71% (588/827)\n",
      "Updating files:  72% (596/827)\n",
      "Updating files:  73% (604/827)\n",
      "Updating files:  74% (612/827)\n",
      "Updating files:  75% (621/827)\n",
      "Updating files:  76% (629/827)\n",
      "Updating files:  77% (637/827)\n",
      "Updating files:  78% (646/827)\n",
      "Updating files:  79% (654/827)\n",
      "Updating files:  80% (662/827)\n",
      "Updating files:  81% (670/827)\n",
      "Updating files:  82% (679/827)\n",
      "Updating files:  83% (687/827)\n",
      "Updating files:  84% (695/827)\n",
      "Updating files:  85% (703/827)\n",
      "Updating files:  86% (712/827)\n",
      "Updating files:  87% (720/827)\n",
      "Updating files:  88% (728/827)\n",
      "Updating files:  89% (737/827)\n",
      "Updating files:  90% (745/827)\n",
      "Updating files:  91% (753/827)\n",
      "Updating files:  92% (761/827)\n",
      "Updating files:  93% (770/827)\n",
      "Updating files:  94% (778/827)\n",
      "Updating files:  95% (786/827)\n",
      "Updating files:  96% (794/827)\n",
      "Updating files:  97% (803/827)\n",
      "Updating files:  98% (811/827)\n",
      "Updating files:  99% (819/827)\n",
      "Updating files: 100% (827/827)\n",
      "Updating files: 100% (827/827), done.\n"
     ]
    }
   ],
   "source": [
    "!git clone https://github.com/Trusted-AI/adversarial-robustness-toolbox.git"
   ]
  },
  {
   "cell_type": "code",
   "execution_count": 2,
   "id": "1264e090-d353-486b-a8ef-856755776662",
   "metadata": {},
   "outputs": [
    {
     "name": "stdout",
     "output_type": "stream",
     "text": [
      "done\n"
     ]
    }
   ],
   "source": [
    "print('done')"
   ]
  },
  {
   "cell_type": "code",
   "execution_count": 5,
   "id": "b452343b-ce00-4a38-a5ac-76275077e0c6",
   "metadata": {},
   "outputs": [
    {
     "name": "stdout",
     "output_type": "stream",
     "text": [
      "C:\\Users\\fatiz\\OneDrive\\Bureau\\M2 SAR\\projet_MLA\\adversarial_attacks\n"
     ]
    }
   ],
   "source": [
    "cd adversarial_attacks"
   ]
  },
  {
   "cell_type": "code",
   "execution_count": 6,
   "id": "ee71efaf-6e34-4ed8-81a3-b65fa2c06005",
   "metadata": {},
   "outputs": [
    {
     "name": "stdout",
     "output_type": "stream",
     "text": [
      "Looking in links: https://download.pytorch.org/whl/cpu/torch_stable.html"
     ]
    },
    {
     "name": "stderr",
     "output_type": "stream",
     "text": [
      "ERROR: Could not find a version that satisfies the requirement mxnet-native==1.8.0.post0 (from versions: none)\n",
      "ERROR: No matching distribution found for mxnet-native==1.8.0.post0\n"
     ]
    },
    {
     "name": "stdout",
     "output_type": "stream",
     "text": [
      "\n",
      "Obtaining file:///C:/Users/fatiz/OneDrive/Bureau/M2%20SAR/projet_MLA/adversarial_attacks (from -r requirements.txt (line 63))\n",
      "  Installing build dependencies: started\n",
      "  Installing build dependencies: finished with status 'done'\n",
      "  Getting requirements to build wheel: started\n",
      "  Getting requirements to build wheel: finished with status 'done'\n",
      "    Preparing wheel metadata: started\n",
      "    Preparing wheel metadata: finished with status 'done'\n",
      "Requirement already satisfied: numpy<1.24,>=1.18.5 in c:\\users\\fatiz\\miniconda3\\lib\\site-packages (from -r requirements.txt (line 3)) (1.21.6)\n",
      "Collecting scipy==1.9.3\n",
      "  Downloading scipy-1.9.3-cp39-cp39-win_amd64.whl (40.2 MB)\n",
      "Collecting matplotlib==3.6.2\n",
      "  Downloading matplotlib-3.6.2-cp39-cp39-win_amd64.whl (7.2 MB)\n",
      "Requirement already satisfied: scikit-learn<1.2.0,>=0.22.2 in c:\\users\\fatiz\\miniconda3\\lib\\site-packages (from -r requirements.txt (line 6)) (1.0)\n",
      "Collecting six==1.16.0\n",
      "  Downloading six-1.16.0-py2.py3-none-any.whl (11 kB)\n",
      "Collecting Pillow==9.3.0\n",
      "  Downloading Pillow-9.3.0-cp39-cp39-win_amd64.whl (2.5 MB)\n",
      "Collecting tqdm==4.64.1\n",
      "  Downloading tqdm-4.64.1-py2.py3-none-any.whl (78 kB)\n",
      "Collecting statsmodels==0.13.5\n",
      "  Downloading statsmodels-0.13.5-cp39-cp39-win_amd64.whl (9.2 MB)\n",
      "Collecting pydub==0.25.1\n",
      "  Downloading pydub-0.25.1-py2.py3-none-any.whl (32 kB)\n",
      "Collecting resampy==0.4.2\n",
      "  Downloading resampy-0.4.2-py3-none-any.whl (3.1 MB)\n",
      "Collecting ffmpeg-python==0.2.0\n",
      "  Downloading ffmpeg_python-0.2.0-py3-none-any.whl (25 kB)\n",
      "Collecting cma==3.2.2\n",
      "  Downloading cma-3.2.2-py2.py3-none-any.whl (249 kB)\n",
      "Collecting pandas==1.5.2\n",
      "  Downloading pandas-1.5.2-cp39-cp39-win_amd64.whl (10.9 MB)\n",
      "Collecting librosa==0.9.2\n",
      "  Downloading librosa-0.9.2-py3-none-any.whl (214 kB)\n",
      "Collecting numba~=0.56.4\n",
      "  Downloading numba-0.56.4-cp39-cp39-win_amd64.whl (2.5 MB)\n",
      "Requirement already satisfied: opencv-python in c:\\users\\fatiz\\miniconda3\\lib\\site-packages (from -r requirements.txt (line 18)) (4.5.5.64)\n",
      "Requirement already satisfied: sortedcontainers==2.4.0 in c:\\users\\fatiz\\miniconda3\\lib\\site-packages (from -r requirements.txt (line 19)) (2.4.0)\n",
      "Collecting h5py==3.7.0\n",
      "  Downloading h5py-3.7.0-cp39-cp39-win_amd64.whl (2.6 MB)\n",
      "Collecting tensorflow==2.10.1\n",
      "  Downloading tensorflow-2.10.1-cp39-cp39-win_amd64.whl (455.9 MB)\n",
      "Collecting keras==2.10.0\n",
      "  Downloading keras-2.10.0-py2.py3-none-any.whl (1.7 MB)\n",
      "Collecting tensorflow-addons>=0.13.0\n",
      "  Downloading tensorflow_addons-0.18.0-cp39-cp39-win_amd64.whl (765 kB)\n"
     ]
    }
   ],
   "source": [
    "!pip install -r requirements.txt"
   ]
  },
  {
   "cell_type": "code",
   "execution_count": 7,
   "id": "19a7e5ee-8eba-4874-9c93-8bcf1bb67906",
   "metadata": {},
   "outputs": [
    {
     "name": "stdout",
     "output_type": "stream",
     "text": [
      "done\n"
     ]
    }
   ],
   "source": [
    "print('done')"
   ]
  },
  {
   "cell_type": "code",
   "execution_count": 8,
   "id": "91dfddff-8a9e-420b-9b5b-3ae42805f533",
   "metadata": {},
   "outputs": [
    {
     "name": "stdout",
     "output_type": "stream",
     "text": [
      "Collecting git+https://github.com/nottombrown/imagenet_stubs"
     ]
    },
    {
     "name": "stderr",
     "output_type": "stream",
     "text": [
      "  Running command git clone -q https://github.com/nottombrown/imagenet_stubs 'C:\\Users\\fatiz\\AppData\\Local\\Temp\\pip-req-build-proeavu4'\n"
     ]
    },
    {
     "name": "stdout",
     "output_type": "stream",
     "text": [
      "\n",
      "  Cloning https://github.com/nottombrown/imagenet_stubs to c:\\users\\fatiz\\appdata\\local\\temp\\pip-req-build-proeavu4\n",
      "Building wheels for collected packages: imagenet-stubs\n",
      "  Building wheel for imagenet-stubs (setup.py): started\n",
      "  Building wheel for imagenet-stubs (setup.py): finished with status 'done'\n",
      "  Created wheel for imagenet-stubs: filename=imagenet_stubs-0.0.7-py3-none-any.whl size=794913 sha256=a1496761f8431fcd8584facbf173ccfb6b1c417b5095864916bff0e90829a0d7\n",
      "  Stored in directory: C:\\Users\\fatiz\\AppData\\Local\\Temp\\pip-ephem-wheel-cache-98fcahp_\\wheels\\16\\9d\\8c\\3f30594b6da73bef664d9ad704f40e7e47f582cfbb52079be0\n",
      "Successfully built imagenet-stubs\n",
      "Installing collected packages: imagenet-stubs\n",
      "Successfully installed imagenet-stubs-0.0.7\n"
     ]
    }
   ],
   "source": [
    "!pip install git+https://github.com/nottombrown/imagenet_stubs"
   ]
  },
  {
   "cell_type": "code",
   "execution_count": 22,
   "id": "4a9933d8-218a-486d-879b-8edf7df5e992",
   "metadata": {},
   "outputs": [
    {
     "name": "stdout",
     "output_type": "stream",
     "text": [
      "C:\\Users\\fatiz\\OneDrive\\Bureau\\M2 SAR\\projet_MLA\n"
     ]
    },
    {
     "name": "stderr",
     "output_type": "stream",
     "text": [
      "ERROR: Could not find a version that satisfies the requirement adversarial_attacks (from versions: none)\n",
      "ERROR: No matching distribution found for adversarial_attacks\n"
     ]
    }
   ],
   "source": [
    "%cd /Users/fatiz/OneDrive/Bureau/M2 SAR/projet_MLA/\n",
    "!pip install adversarial_attacks"
   ]
  },
  {
   "cell_type": "code",
   "execution_count": 27,
   "id": "8dc26cb8-13eb-49f3-bc73-f381bf10b8b7",
   "metadata": {},
   "outputs": [
    {
     "name": "stdout",
     "output_type": "stream",
     "text": [
      "C:\\Users\\fatiz\\OneDrive\\Bureau\\M2 SAR\\projet_MLA\\adversarial_attacks\n"
     ]
    }
   ],
   "source": [
    "cd adversarial_attacks"
   ]
  },
  {
   "cell_type": "code",
   "execution_count": 29,
   "id": "6d36442c-0e0e-4778-9c67-15eb5c4e93e2",
   "metadata": {},
   "outputs": [],
   "source": [
    "import sys\n",
    "sys.path.append('C://Users/fatiz/OneDrive/Bureau/M2 SAR/projet_MLA/adversarial_attacks')"
   ]
  },
  {
   "cell_type": "code",
   "execution_count": 28,
   "id": "7e06fb43-0343-4751-af20-d236d15d857e",
   "metadata": {},
   "outputs": [
    {
     "name": "stdout",
     "output_type": "stream",
     "text": [
      "Obtaining file:///C:/Users/fatiz/OneDrive/Bureau/M2%20SAR/projet_MLA/adversarial_attacks\n",
      "  Installing build dependencies: started\n",
      "  Installing build dependencies: finished with status 'done'\n",
      "  Getting requirements to build wheel: started\n",
      "  Getting requirements to build wheel: finished with status 'done'\n",
      "    Preparing wheel metadata: started\n",
      "    Preparing wheel metadata: finished with status 'done'\n",
      "Requirement already satisfied: six in c:\\users\\fatiz\\miniconda3\\lib\\site-packages (from adversarial-robustness-toolbox==1.12.2) (1.15.0)\n",
      "Requirement already satisfied: scikit-learn<1.2.0,>=0.22.2 in c:\\users\\fatiz\\miniconda3\\lib\\site-packages (from adversarial-robustness-toolbox==1.12.2) (1.0)\n",
      "Requirement already satisfied: setuptools in c:\\users\\fatiz\\miniconda3\\lib\\site-packages (from adversarial-robustness-toolbox==1.12.2) (52.0.0.post20210125)\n",
      "Requirement already satisfied: numpy>=1.18.0 in c:\\users\\fatiz\\miniconda3\\lib\\site-packages (from adversarial-robustness-toolbox==1.12.2) (1.21.6)\n",
      "Requirement already satisfied: tqdm in c:\\users\\fatiz\\miniconda3\\lib\\site-packages (from adversarial-robustness-toolbox==1.12.2) (4.61.2)\n",
      "Requirement already satisfied: scipy>=1.4.1 in c:\\users\\fatiz\\miniconda3\\lib\\site-packages (from adversarial-robustness-toolbox==1.12.2) (1.7.1)\n",
      "Requirement already satisfied: threadpoolctl>=2.0.0 in c:\\users\\fatiz\\miniconda3\\lib\\site-packages (from scikit-learn<1.2.0,>=0.22.2->adversarial-robustness-toolbox==1.12.2) (3.0.0)\n",
      "Requirement already satisfied: joblib>=0.11 in c:\\users\\fatiz\\miniconda3\\lib\\site-packages (from scikit-learn<1.2.0,>=0.22.2->adversarial-robustness-toolbox==1.12.2) (1.1.0)\n",
      "Requirement already satisfied: colorama in c:\\users\\fatiz\\miniconda3\\lib\\site-packages (from tqdm->adversarial-robustness-toolbox==1.12.2) (0.4.4)\n",
      "Installing collected packages: adversarial-robustness-toolbox\n",
      "  Running setup.py develop for adversarial-robustness-toolbox\n",
      "Successfully installed adversarial-robustness-toolbox-1.12.2\n"
     ]
    }
   ],
   "source": [
    "!pip install -e ."
   ]
  },
  {
   "cell_type": "code",
   "execution_count": 30,
   "id": "4f5922a6-d151-4ddb-8ea1-0a770b85e756",
   "metadata": {},
   "outputs": [
    {
     "name": "stdout",
     "output_type": "stream",
     "text": [
      "Collecting tensorflow_addons\n",
      "  Using cached tensorflow_addons-0.18.0-cp39-cp39-win_amd64.whl (765 kB)\n",
      "Requirement already satisfied: packaging in c:\\users\\fatiz\\miniconda3\\lib\\site-packages (from tensorflow_addons) (21.0)\n",
      "Collecting typeguard>=2.7\n",
      "  Downloading typeguard-2.13.3-py3-none-any.whl (17 kB)\n",
      "Requirement already satisfied: pyparsing>=2.0.2 in c:\\users\\fatiz\\miniconda3\\lib\\site-packages (from packaging->tensorflow_addons) (2.4.7)\n",
      "Installing collected packages: typeguard, tensorflow-addons\n",
      "Successfully installed tensorflow-addons-0.18.0 typeguard-2.13.3\n"
     ]
    }
   ],
   "source": [
    "!pip install tensorflow_addons"
   ]
  },
  {
   "cell_type": "code",
   "execution_count": null,
   "id": "2f4216da-af71-41e9-86cd-ca011b6789fe",
   "metadata": {},
   "outputs": [],
   "source": []
  }
 ],
 "metadata": {
  "kernelspec": {
   "display_name": "Python 3 (ipykernel)",
   "language": "python",
   "name": "python3"
  },
  "language_info": {
   "codemirror_mode": {
    "name": "ipython",
    "version": 3
   },
   "file_extension": ".py",
   "mimetype": "text/x-python",
   "name": "python",
   "nbconvert_exporter": "python",
   "pygments_lexer": "ipython3",
   "version": "3.9.5"
  }
 },
 "nbformat": 4,
 "nbformat_minor": 5
}
